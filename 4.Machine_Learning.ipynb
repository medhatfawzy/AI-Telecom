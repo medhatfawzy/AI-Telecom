{
 "cells": [
  {
   "cell_type": "code",
   "execution_count": 6,
   "metadata": {},
   "outputs": [],
   "source": [
    "import pandas as pd\n",
    "from pandasql import sqldf\n",
    "import matplotlib.pyplot as plt\n",
    "from sklearn.preprocessing import MinMaxScaler\n",
    "\n"
   ]
  },
  {
   "cell_type": "code",
   "execution_count": 2,
   "metadata": {},
   "outputs": [],
   "source": [
    "Down_traffic = pd.read_parquet(\"./Data/Down_traffic.parq\")\n",
    "Up_traffic = pd.read_parquet(\"./Data/Up_traffic.parq\")"
   ]
  },
  {
   "attachments": {},
   "cell_type": "markdown",
   "metadata": {},
   "source": [
    "I'll choose the operator A to see the impact of the RSRP improvment on the uplink traffice and the downlink traffic. I'll also choose a random polygon"
   ]
  },
  {
   "cell_type": "code",
   "execution_count": 7,
   "id": "478f2c8d",
   "metadata": {},
   "outputs": [],
   "source": [
    "Down_traffic_poly = sqldf(\n",
    "\"\"\"SELECT *\n",
    "FROM Down_traffic\n",
    "WHERE LocationLongitude BETWEEN 46.8 and 47\n",
    "AND LocationLatitude BETWEEN 24.4 and 24.6\n",
    "AND RadioOperatorName = 'Operator A'\n",
    ";\n",
    "\"\"\", globals())\n",
    "\n",
    "Up_traffic_poly = sqldf(\n",
    "\"\"\"SELECT *\n",
    "FROM Up_traffic\n",
    "WHERE LocationLongitude BETWEEN 46.8 and 47\n",
    "AND LocationLatitude BETWEEN 24.4 and 24.6\n",
    "AND RadioOperatorName = 'Operator A'\n",
    ";\n",
    "\"\"\", globals())"
   ]
  },
  {
   "cell_type": "code",
   "execution_count": 8,
   "id": "172586cb",
   "metadata": {},
   "outputs": [],
   "source": [
    "scaler = MinMaxScaler()\n",
    "Down_traffic_poly[['RSRP', 'TrafficVolume']] = scaler.fit_transform(Down_traffic_poly[['RSRP', 'TrafficVolume']])\n",
    "scaler = MinMaxScaler()\n",
    "Up_traffic_poly[['RSRP', 'TrafficVolume']] = scaler.fit_transform(Up_traffic_poly[['RSRP', 'TrafficVolume']])"
   ]
  },
  {
   "cell_type": "code",
   "execution_count": 31,
   "id": "e7e16ba2",
   "metadata": {},
   "outputs": [
    {
     "data": {
      "image/png": "[encoded data removed]",
      "text/plain": [
       "<Figure size 1440x360 with 2 Axes>"
      ]
     },
     "metadata": {
      "needs_background": "light"
     },
     "output_type": "display_data"
    }
   ],
   "source": [
    "fig,(ax1,ax2) = plt.subplots(1, 2)\n",
    "ax1.scatter(Down_traffic_poly.RSRP, Down_traffic_poly.TrafficVolume)\n",
    "ax1.set_title(\"Downlink traffic vs RSRP\")\n",
    "ax2.scatter(Up_traffic_poly.RSRP, Up_traffic_poly.TrafficVolume)\n",
    "ax2.set_title(\"Uplink traffic vs RSRP\")\n",
    "fig.set_figwidth(20)\n",
    "fig.set_figheight(5) \n",
    "plt.show()"
   ]
  },
  {
   "cell_type": "code",
   "execution_count": 33,
   "metadata": {},
   "outputs": [
    {
     "data": {
      "text/html": [
       "<div>\n",
       "<style scoped>\n",
       "    .dataframe tbody tr th:only-of-type {\n",
       "        vertical-align: middle;\n",
       "    }\n",
       "\n",
       "    .dataframe tbody tr th {\n",
       "        vertical-align: top;\n",
       "    }\n",
       "\n",
       "    .dataframe thead th {\n",
       "        text-align: right;\n",
       "    }\n",
       "</style>\n",
       "<table border=\"1\" class=\"dataframe\">\n",
       "  <thead>\n",
       "    <tr style=\"text-align: right;\">\n",
       "      <th></th>\n",
       "      <th>LocationLatitude</th>\n",
       "      <th>LocationLongitude</th>\n",
       "      <th>TrafficVolume</th>\n",
       "      <th>RSRP</th>\n",
       "    </tr>\n",
       "  </thead>\n",
       "  <tbody>\n",
       "    <tr>\n",
       "      <th>LocationLatitude</th>\n",
       "      <td>1.000000</td>\n",
       "      <td>0.079795</td>\n",
       "      <td>-0.036160</td>\n",
       "      <td>0.098871</td>\n",
       "    </tr>\n",
       "    <tr>\n",
       "      <th>LocationLongitude</th>\n",
       "      <td>0.079795</td>\n",
       "      <td>1.000000</td>\n",
       "      <td>-0.026454</td>\n",
       "      <td>-0.042231</td>\n",
       "    </tr>\n",
       "    <tr>\n",
       "      <th>TrafficVolume</th>\n",
       "      <td>-0.036160</td>\n",
       "      <td>-0.026454</td>\n",
       "      <td>1.000000</td>\n",
       "      <td>-0.006594</td>\n",
       "    </tr>\n",
       "    <tr>\n",
       "      <th>RSRP</th>\n",
       "      <td>0.098871</td>\n",
       "      <td>-0.042231</td>\n",
       "      <td>-0.006594</td>\n",
       "      <td>1.000000</td>\n",
       "    </tr>\n",
       "  </tbody>\n",
       "</table>\n",
       "</div>"
      ],
      "text/plain": [
       "                   LocationLatitude  LocationLongitude  TrafficVolume  \\\n",
       "LocationLatitude           1.000000           0.079795      -0.036160   \n",
       "LocationLongitude          0.079795           1.000000      -0.026454   \n",
       "TrafficVolume             -0.036160          -0.026454       1.000000   \n",
       "RSRP                       0.098871          -0.042231      -0.006594   \n",
       "\n",
       "                       RSRP  \n",
       "LocationLatitude   0.098871  \n",
       "LocationLongitude -0.042231  \n",
       "TrafficVolume     -0.006594  \n",
       "RSRP               1.000000  "
      ]
     },
     "execution_count": 33,
     "metadata": {},
     "output_type": "execute_result"
    }
   ],
   "source": [
    "Down_traffic.corr(numeric_only=True)"
   ]
  },
  {
   "attachments": {},
   "cell_type": "markdown",
   "metadata": {},
   "source": [
    "From the graph and the correlation matrix we can see that there's very little correlation between these variable. However, let's try a linear regression model and see how it performs then let's try other algorithms."
   ]
  },
  {
   "cell_type": "code",
   "execution_count": null,
   "metadata": {},
   "outputs": [],
   "source": []
  }
 ],
 "metadata": {
  "kernelspec": {
   "display_name": "Python 3",
   "language": "python",
   "name": "python3"
  },
  "language_info": {
   "codemirror_mode": {
    "name": "ipython",
    "version": 3
   },
   "file_extension": ".py",
   "mimetype": "text/x-python",
   "name": "python",
   "nbconvert_exporter": "python",
   "pygments_lexer": "ipython3",
   "version": "3.10.6"
  },
  "orig_nbformat": 4,
  "vscode": {
   "interpreter": {
    "hash": "916dbcbb3f70747c44a77c7bcd40155683ae19c65e1c03b4aa3499c5328201f1"
   }
  }
 },
 "nbformat": 4,
 "nbformat_minor": 2
}
