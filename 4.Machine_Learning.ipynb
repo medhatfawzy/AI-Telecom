{
 "cells": [
  {
   "cell_type": "code",
   "execution_count": 2,
   "metadata": {},
   "outputs": [],
   "source": [
    "import pandas as pd\n",
    "from pandasql import sqldf\n",
    "import numpy as np\n",
    "import matplotlib.pyplot as plt\n",
    "from sklearn import preprocessing\n",
    "from sklearn.linear_model import LinearRegression\n",
    "from sklearn.model_selection import train_test_split\n",
    "from sklearn.ensemble import RandomForestRegressor\n",
    "from sklearn.metrics import accuracy_score\n",
    "from sklearn.preprocessing import MinMaxScaler"
   ]
  },
  {
   "cell_type": "code",
   "execution_count": 3,
   "metadata": {},
   "outputs": [],
   "source": [
    "Down_traffic = pd.read_parquet(\"./Data/Down_traffic.parq\")\n",
    "Up_traffic = pd.read_parquet(\"./Data/Up_traffic.parq\")"
   ]
  },
  {
   "cell_type": "code",
   "execution_count": 4,
   "metadata": {},
   "outputs": [
    {
     "name": "stdout",
     "output_type": "stream",
     "text": [
      "<class 'pandas.core.frame.DataFrame'>\n",
      "RangeIndex: 9681 entries, 0 to 9680\n",
      "Data columns (total 12 columns):\n",
      " #   Column                  Non-Null Count  Dtype         \n",
      "---  ------                  --------------  -----         \n",
      " 0   Timestamp               9681 non-null   datetime64[ns]\n",
      " 1   LocationLatitude        9681 non-null   float64       \n",
      " 2   LocationLongitude       9681 non-null   float64       \n",
      " 3   RadioOperatorName       9681 non-null   category      \n",
      " 4   RadioNetworkGeneration  9681 non-null   category      \n",
      " 5   RadioConnectionType     9681 non-null   category      \n",
      " 6   RadioMobileDataEnabled  9681 non-null   category      \n",
      " 7   DeviceManufacturer      9681 non-null   category      \n",
      " 8   DeviceName              9681 non-null   category      \n",
      " 9   TrafficDirection        9681 non-null   category      \n",
      " 10  TrafficVolume           9681 non-null   float64       \n",
      " 11  RSRP                    9681 non-null   float64       \n",
      "dtypes: category(7), datetime64[ns](1), float64(4)\n",
      "memory usage: 465.0 KB\n"
     ]
    }
   ],
   "source": [
    "Down_traffic.info()"
   ]
  },
  {
   "cell_type": "code",
   "execution_count": 5,
   "metadata": {},
   "outputs": [
    {
     "data": {
      "text/html": [
       "<div>\n",
       "<style scoped>\n",
       "    .dataframe tbody tr th:only-of-type {\n",
       "        vertical-align: middle;\n",
       "    }\n",
       "\n",
       "    .dataframe tbody tr th {\n",
       "        vertical-align: top;\n",
       "    }\n",
       "\n",
       "    .dataframe thead th {\n",
       "        text-align: right;\n",
       "    }\n",
       "</style>\n",
       "<table border=\"1\" class=\"dataframe\">\n",
       "  <thead>\n",
       "    <tr style=\"text-align: right;\">\n",
       "      <th></th>\n",
       "      <th>Timestamp</th>\n",
       "      <th>LocationLatitude</th>\n",
       "      <th>LocationLongitude</th>\n",
       "      <th>RadioOperatorName</th>\n",
       "      <th>RadioNetworkGeneration</th>\n",
       "      <th>RadioConnectionType</th>\n",
       "      <th>RadioMobileDataEnabled</th>\n",
       "      <th>DeviceManufacturer</th>\n",
       "      <th>DeviceName</th>\n",
       "      <th>TrafficDirection</th>\n",
       "      <th>TrafficVolume</th>\n",
       "      <th>RSRP</th>\n",
       "    </tr>\n",
       "  </thead>\n",
       "  <tbody>\n",
       "    <tr>\n",
       "      <th>0</th>\n",
       "      <td>2019-11-01 20:00:00</td>\n",
       "      <td>24.626087</td>\n",
       "      <td>46.689846</td>\n",
       "      <td>Operator C</td>\n",
       "      <td>4G</td>\n",
       "      <td>Mobile</td>\n",
       "      <td>Enabled</td>\n",
       "      <td>SAMSUNG</td>\n",
       "      <td>Galaxy Grand Prime Plus</td>\n",
       "      <td>Downlink</td>\n",
       "      <td>1.244167</td>\n",
       "      <td>-99.777778</td>\n",
       "    </tr>\n",
       "    <tr>\n",
       "      <th>1</th>\n",
       "      <td>2019-11-01 20:15:00</td>\n",
       "      <td>24.626087</td>\n",
       "      <td>46.689846</td>\n",
       "      <td>Operator C</td>\n",
       "      <td>4G</td>\n",
       "      <td>Mobile</td>\n",
       "      <td>Enabled</td>\n",
       "      <td>SAMSUNG</td>\n",
       "      <td>Galaxy Grand Prime Plus</td>\n",
       "      <td>Downlink</td>\n",
       "      <td>0.145414</td>\n",
       "      <td>-101.200000</td>\n",
       "    </tr>\n",
       "    <tr>\n",
       "      <th>2</th>\n",
       "      <td>2019-11-01 21:00:00</td>\n",
       "      <td>24.526780</td>\n",
       "      <td>46.666590</td>\n",
       "      <td>Operator A</td>\n",
       "      <td>4G</td>\n",
       "      <td>Mobile</td>\n",
       "      <td>Enabled</td>\n",
       "      <td>SAMSUNG</td>\n",
       "      <td>Galaxy A51</td>\n",
       "      <td>Downlink</td>\n",
       "      <td>0.027583</td>\n",
       "      <td>-89.888889</td>\n",
       "    </tr>\n",
       "    <tr>\n",
       "      <th>3</th>\n",
       "      <td>2019-11-01 21:00:00</td>\n",
       "      <td>24.549557</td>\n",
       "      <td>46.691914</td>\n",
       "      <td>Operator B</td>\n",
       "      <td>4G</td>\n",
       "      <td>Mobile</td>\n",
       "      <td>Enabled</td>\n",
       "      <td>SAMSUNG</td>\n",
       "      <td>Galaxy J8</td>\n",
       "      <td>Downlink</td>\n",
       "      <td>164.994614</td>\n",
       "      <td>-69.000000</td>\n",
       "    </tr>\n",
       "    <tr>\n",
       "      <th>4</th>\n",
       "      <td>2019-11-01 21:00:00</td>\n",
       "      <td>24.560373</td>\n",
       "      <td>46.865420</td>\n",
       "      <td>Operator A</td>\n",
       "      <td>4G</td>\n",
       "      <td>Mobile</td>\n",
       "      <td>Enabled</td>\n",
       "      <td>SAMSUNG</td>\n",
       "      <td>Galaxy A70</td>\n",
       "      <td>Downlink</td>\n",
       "      <td>22.345335</td>\n",
       "      <td>-111.666667</td>\n",
       "    </tr>\n",
       "    <tr>\n",
       "      <th>5</th>\n",
       "      <td>2019-11-01 21:00:00</td>\n",
       "      <td>24.571188</td>\n",
       "      <td>46.637253</td>\n",
       "      <td>Operator B</td>\n",
       "      <td>4G</td>\n",
       "      <td>Mobile</td>\n",
       "      <td>Enabled</td>\n",
       "      <td>SAMSUNG</td>\n",
       "      <td>Galaxy A20</td>\n",
       "      <td>Downlink</td>\n",
       "      <td>0.319108</td>\n",
       "      <td>-100.250000</td>\n",
       "    </tr>\n",
       "    <tr>\n",
       "      <th>6</th>\n",
       "      <td>2019-11-01 21:00:00</td>\n",
       "      <td>24.596653</td>\n",
       "      <td>46.680504</td>\n",
       "      <td>Operator A</td>\n",
       "      <td>4G</td>\n",
       "      <td>Mobile</td>\n",
       "      <td>Enabled</td>\n",
       "      <td>SAMSUNG</td>\n",
       "      <td>Galaxy Note8</td>\n",
       "      <td>Downlink</td>\n",
       "      <td>75.150810</td>\n",
       "      <td>-83.000000</td>\n",
       "    </tr>\n",
       "    <tr>\n",
       "      <th>7</th>\n",
       "      <td>2019-11-01 21:00:00</td>\n",
       "      <td>24.597780</td>\n",
       "      <td>46.633713</td>\n",
       "      <td>Operator A</td>\n",
       "      <td>4G</td>\n",
       "      <td>Mobile</td>\n",
       "      <td>Enabled</td>\n",
       "      <td>HTC</td>\n",
       "      <td>Desire 12</td>\n",
       "      <td>Downlink</td>\n",
       "      <td>19.096824</td>\n",
       "      <td>-88.142857</td>\n",
       "    </tr>\n",
       "    <tr>\n",
       "      <th>8</th>\n",
       "      <td>2019-11-01 21:00:00</td>\n",
       "      <td>24.597988</td>\n",
       "      <td>46.723907</td>\n",
       "      <td>Operator A</td>\n",
       "      <td>4G</td>\n",
       "      <td>Mobile</td>\n",
       "      <td>Enabled</td>\n",
       "      <td>HUAWEI</td>\n",
       "      <td>Honor 10I</td>\n",
       "      <td>Downlink</td>\n",
       "      <td>0.030366</td>\n",
       "      <td>-82.000000</td>\n",
       "    </tr>\n",
       "    <tr>\n",
       "      <th>9</th>\n",
       "      <td>2019-11-01 21:00:00</td>\n",
       "      <td>24.598774</td>\n",
       "      <td>46.676735</td>\n",
       "      <td>Operator B</td>\n",
       "      <td>4G</td>\n",
       "      <td>Mobile</td>\n",
       "      <td>Enabled</td>\n",
       "      <td>HTC</td>\n",
       "      <td>M9</td>\n",
       "      <td>Downlink</td>\n",
       "      <td>50.598703</td>\n",
       "      <td>-97.400000</td>\n",
       "    </tr>\n",
       "  </tbody>\n",
       "</table>\n",
       "</div>"
      ],
      "text/plain": [
       "            Timestamp  LocationLatitude  LocationLongitude RadioOperatorName  \\\n",
       "0 2019-11-01 20:00:00         24.626087          46.689846        Operator C   \n",
       "1 2019-11-01 20:15:00         24.626087          46.689846        Operator C   \n",
       "2 2019-11-01 21:00:00         24.526780          46.666590        Operator A   \n",
       "3 2019-11-01 21:00:00         24.549557          46.691914        Operator B   \n",
       "4 2019-11-01 21:00:00         24.560373          46.865420        Operator A   \n",
       "5 2019-11-01 21:00:00         24.571188          46.637253        Operator B   \n",
       "6 2019-11-01 21:00:00         24.596653          46.680504        Operator A   \n",
       "7 2019-11-01 21:00:00         24.597780          46.633713        Operator A   \n",
       "8 2019-11-01 21:00:00         24.597988          46.723907        Operator A   \n",
       "9 2019-11-01 21:00:00         24.598774          46.676735        Operator B   \n",
       "\n",
       "  RadioNetworkGeneration RadioConnectionType RadioMobileDataEnabled  \\\n",
       "0                     4G              Mobile                Enabled   \n",
       "1                     4G              Mobile                Enabled   \n",
       "2                     4G              Mobile                Enabled   \n",
       "3                     4G              Mobile                Enabled   \n",
       "4                     4G              Mobile                Enabled   \n",
       "5                     4G              Mobile                Enabled   \n",
       "6                     4G              Mobile                Enabled   \n",
       "7                     4G              Mobile                Enabled   \n",
       "8                     4G              Mobile                Enabled   \n",
       "9                     4G              Mobile                Enabled   \n",
       "\n",
       "  DeviceManufacturer               DeviceName TrafficDirection  TrafficVolume  \\\n",
       "0            SAMSUNG  Galaxy Grand Prime Plus         Downlink       1.244167   \n",
       "1            SAMSUNG  Galaxy Grand Prime Plus         Downlink       0.145414   \n",
       "2            SAMSUNG               Galaxy A51         Downlink       0.027583   \n",
       "3            SAMSUNG                Galaxy J8         Downlink     164.994614   \n",
       "4            SAMSUNG               Galaxy A70         Downlink      22.345335   \n",
       "5            SAMSUNG               Galaxy A20         Downlink       0.319108   \n",
       "6            SAMSUNG             Galaxy Note8         Downlink      75.150810   \n",
       "7                HTC                Desire 12         Downlink      19.096824   \n",
       "8             HUAWEI                Honor 10I         Downlink       0.030366   \n",
       "9                HTC                       M9         Downlink      50.598703   \n",
       "\n",
       "         RSRP  \n",
       "0  -99.777778  \n",
       "1 -101.200000  \n",
       "2  -89.888889  \n",
       "3  -69.000000  \n",
       "4 -111.666667  \n",
       "5 -100.250000  \n",
       "6  -83.000000  \n",
       "7  -88.142857  \n",
       "8  -82.000000  \n",
       "9  -97.400000  "
      ]
     },
     "execution_count": 5,
     "metadata": {},
     "output_type": "execute_result"
    }
   ],
   "source": [
    "Down_traffic.head(10)"
   ]
  },
  {
   "cell_type": "code",
   "execution_count": 6,
   "metadata": {},
   "outputs": [
    {
     "name": "stdout",
     "output_type": "stream",
     "text": [
      "<class 'pandas.core.frame.DataFrame'>\n",
      "RangeIndex: 9613 entries, 0 to 9612\n",
      "Data columns (total 12 columns):\n",
      " #   Column                  Non-Null Count  Dtype         \n",
      "---  ------                  --------------  -----         \n",
      " 0   Timestamp               9613 non-null   datetime64[ns]\n",
      " 1   LocationLatitude        9613 non-null   float64       \n",
      " 2   LocationLongitude       9613 non-null   float64       \n",
      " 3   RadioOperatorName       9613 non-null   category      \n",
      " 4   RadioNetworkGeneration  9613 non-null   category      \n",
      " 5   RadioConnectionType     9613 non-null   category      \n",
      " 6   RadioMobileDataEnabled  9613 non-null   category      \n",
      " 7   DeviceManufacturer      9613 non-null   category      \n",
      " 8   DeviceName              9613 non-null   category      \n",
      " 9   TrafficDirection        9613 non-null   category      \n",
      " 10  TrafficVolume           9613 non-null   float64       \n",
      " 11  RSRP                    9613 non-null   float64       \n",
      "dtypes: category(7), datetime64[ns](1), float64(4)\n",
      "memory usage: 461.7 KB\n"
     ]
    }
   ],
   "source": [
    "Up_traffic.info()"
   ]
  },
  {
   "cell_type": "code",
   "execution_count": 7,
   "metadata": {},
   "outputs": [
    {
     "data": {
      "text/html": [
       "<div>\n",
       "<style scoped>\n",
       "    .dataframe tbody tr th:only-of-type {\n",
       "        vertical-align: middle;\n",
       "    }\n",
       "\n",
       "    .dataframe tbody tr th {\n",
       "        vertical-align: top;\n",
       "    }\n",
       "\n",
       "    .dataframe thead th {\n",
       "        text-align: right;\n",
       "    }\n",
       "</style>\n",
       "<table border=\"1\" class=\"dataframe\">\n",
       "  <thead>\n",
       "    <tr style=\"text-align: right;\">\n",
       "      <th></th>\n",
       "      <th>Timestamp</th>\n",
       "      <th>LocationLatitude</th>\n",
       "      <th>LocationLongitude</th>\n",
       "      <th>RadioOperatorName</th>\n",
       "      <th>RadioNetworkGeneration</th>\n",
       "      <th>RadioConnectionType</th>\n",
       "      <th>RadioMobileDataEnabled</th>\n",
       "      <th>DeviceManufacturer</th>\n",
       "      <th>DeviceName</th>\n",
       "      <th>TrafficDirection</th>\n",
       "      <th>TrafficVolume</th>\n",
       "      <th>RSRP</th>\n",
       "    </tr>\n",
       "  </thead>\n",
       "  <tbody>\n",
       "    <tr>\n",
       "      <th>0</th>\n",
       "      <td>2019-11-01 19:15:00</td>\n",
       "      <td>24.626139</td>\n",
       "      <td>46.689728</td>\n",
       "      <td>Operator C</td>\n",
       "      <td>4G</td>\n",
       "      <td>Mobile</td>\n",
       "      <td>Enabled</td>\n",
       "      <td>SAMSUNG</td>\n",
       "      <td>Galaxy Grand Prime Plus</td>\n",
       "      <td>Uplink</td>\n",
       "      <td>2.731466</td>\n",
       "      <td>-87.000000</td>\n",
       "    </tr>\n",
       "    <tr>\n",
       "      <th>1</th>\n",
       "      <td>2019-11-01 20:00:00</td>\n",
       "      <td>24.626087</td>\n",
       "      <td>46.689846</td>\n",
       "      <td>Operator C</td>\n",
       "      <td>4G</td>\n",
       "      <td>Mobile</td>\n",
       "      <td>Enabled</td>\n",
       "      <td>SAMSUNG</td>\n",
       "      <td>Galaxy Grand Prime Plus</td>\n",
       "      <td>Uplink</td>\n",
       "      <td>1.175476</td>\n",
       "      <td>-99.777778</td>\n",
       "    </tr>\n",
       "    <tr>\n",
       "      <th>2</th>\n",
       "      <td>2019-11-01 20:15:00</td>\n",
       "      <td>24.626087</td>\n",
       "      <td>46.689846</td>\n",
       "      <td>Operator C</td>\n",
       "      <td>4G</td>\n",
       "      <td>Mobile</td>\n",
       "      <td>Enabled</td>\n",
       "      <td>SAMSUNG</td>\n",
       "      <td>Galaxy Grand Prime Plus</td>\n",
       "      <td>Uplink</td>\n",
       "      <td>0.105763</td>\n",
       "      <td>-101.200000</td>\n",
       "    </tr>\n",
       "    <tr>\n",
       "      <th>3</th>\n",
       "      <td>2019-11-01 21:00:00</td>\n",
       "      <td>24.526780</td>\n",
       "      <td>46.666590</td>\n",
       "      <td>Operator A</td>\n",
       "      <td>4G</td>\n",
       "      <td>Mobile</td>\n",
       "      <td>Enabled</td>\n",
       "      <td>SAMSUNG</td>\n",
       "      <td>Galaxy A51</td>\n",
       "      <td>Uplink</td>\n",
       "      <td>0.027508</td>\n",
       "      <td>-89.888889</td>\n",
       "    </tr>\n",
       "    <tr>\n",
       "      <th>4</th>\n",
       "      <td>2019-11-01 21:00:00</td>\n",
       "      <td>24.549557</td>\n",
       "      <td>46.691914</td>\n",
       "      <td>Operator B</td>\n",
       "      <td>4G</td>\n",
       "      <td>Mobile</td>\n",
       "      <td>Enabled</td>\n",
       "      <td>SAMSUNG</td>\n",
       "      <td>Galaxy J8</td>\n",
       "      <td>Uplink</td>\n",
       "      <td>9.920519</td>\n",
       "      <td>-69.000000</td>\n",
       "    </tr>\n",
       "    <tr>\n",
       "      <th>5</th>\n",
       "      <td>2019-11-01 21:00:00</td>\n",
       "      <td>24.558767</td>\n",
       "      <td>46.612730</td>\n",
       "      <td>Operator A</td>\n",
       "      <td>4G</td>\n",
       "      <td>Mobile</td>\n",
       "      <td>Enabled</td>\n",
       "      <td>SAMSUNG</td>\n",
       "      <td>Galaxy A50</td>\n",
       "      <td>Uplink</td>\n",
       "      <td>0.100335</td>\n",
       "      <td>-90.538462</td>\n",
       "    </tr>\n",
       "    <tr>\n",
       "      <th>6</th>\n",
       "      <td>2019-11-01 21:00:00</td>\n",
       "      <td>24.560373</td>\n",
       "      <td>46.865420</td>\n",
       "      <td>Operator A</td>\n",
       "      <td>4G</td>\n",
       "      <td>Mobile</td>\n",
       "      <td>Enabled</td>\n",
       "      <td>SAMSUNG</td>\n",
       "      <td>Galaxy A70</td>\n",
       "      <td>Uplink</td>\n",
       "      <td>1.569905</td>\n",
       "      <td>-111.666667</td>\n",
       "    </tr>\n",
       "    <tr>\n",
       "      <th>7</th>\n",
       "      <td>2019-11-01 21:00:00</td>\n",
       "      <td>24.571188</td>\n",
       "      <td>46.637253</td>\n",
       "      <td>Operator B</td>\n",
       "      <td>4G</td>\n",
       "      <td>Mobile</td>\n",
       "      <td>Enabled</td>\n",
       "      <td>SAMSUNG</td>\n",
       "      <td>Galaxy A20</td>\n",
       "      <td>Uplink</td>\n",
       "      <td>0.113349</td>\n",
       "      <td>-100.250000</td>\n",
       "    </tr>\n",
       "    <tr>\n",
       "      <th>8</th>\n",
       "      <td>2019-11-01 21:00:00</td>\n",
       "      <td>24.596655</td>\n",
       "      <td>46.680653</td>\n",
       "      <td>Operator A</td>\n",
       "      <td>4G</td>\n",
       "      <td>Mobile</td>\n",
       "      <td>Enabled</td>\n",
       "      <td>SAMSUNG</td>\n",
       "      <td>Galaxy Note8</td>\n",
       "      <td>Uplink</td>\n",
       "      <td>3.188925</td>\n",
       "      <td>-83.000000</td>\n",
       "    </tr>\n",
       "    <tr>\n",
       "      <th>9</th>\n",
       "      <td>2019-11-01 21:00:00</td>\n",
       "      <td>24.596676</td>\n",
       "      <td>46.632065</td>\n",
       "      <td>Operator A</td>\n",
       "      <td>4G</td>\n",
       "      <td>Mobile</td>\n",
       "      <td>Enabled</td>\n",
       "      <td>HTC</td>\n",
       "      <td>Desire 12</td>\n",
       "      <td>Uplink</td>\n",
       "      <td>0.382367</td>\n",
       "      <td>-93.500000</td>\n",
       "    </tr>\n",
       "  </tbody>\n",
       "</table>\n",
       "</div>"
      ],
      "text/plain": [
       "            Timestamp  LocationLatitude  LocationLongitude RadioOperatorName  \\\n",
       "0 2019-11-01 19:15:00         24.626139          46.689728        Operator C   \n",
       "1 2019-11-01 20:00:00         24.626087          46.689846        Operator C   \n",
       "2 2019-11-01 20:15:00         24.626087          46.689846        Operator C   \n",
       "3 2019-11-01 21:00:00         24.526780          46.666590        Operator A   \n",
       "4 2019-11-01 21:00:00         24.549557          46.691914        Operator B   \n",
       "5 2019-11-01 21:00:00         24.558767          46.612730        Operator A   \n",
       "6 2019-11-01 21:00:00         24.560373          46.865420        Operator A   \n",
       "7 2019-11-01 21:00:00         24.571188          46.637253        Operator B   \n",
       "8 2019-11-01 21:00:00         24.596655          46.680653        Operator A   \n",
       "9 2019-11-01 21:00:00         24.596676          46.632065        Operator A   \n",
       "\n",
       "  RadioNetworkGeneration RadioConnectionType RadioMobileDataEnabled  \\\n",
       "0                     4G              Mobile                Enabled   \n",
       "1                     4G              Mobile                Enabled   \n",
       "2                     4G              Mobile                Enabled   \n",
       "3                     4G              Mobile                Enabled   \n",
       "4                     4G              Mobile                Enabled   \n",
       "5                     4G              Mobile                Enabled   \n",
       "6                     4G              Mobile                Enabled   \n",
       "7                     4G              Mobile                Enabled   \n",
       "8                     4G              Mobile                Enabled   \n",
       "9                     4G              Mobile                Enabled   \n",
       "\n",
       "  DeviceManufacturer               DeviceName TrafficDirection  TrafficVolume  \\\n",
       "0            SAMSUNG  Galaxy Grand Prime Plus           Uplink       2.731466   \n",
       "1            SAMSUNG  Galaxy Grand Prime Plus           Uplink       1.175476   \n",
       "2            SAMSUNG  Galaxy Grand Prime Plus           Uplink       0.105763   \n",
       "3            SAMSUNG               Galaxy A51           Uplink       0.027508   \n",
       "4            SAMSUNG                Galaxy J8           Uplink       9.920519   \n",
       "5            SAMSUNG               Galaxy A50           Uplink       0.100335   \n",
       "6            SAMSUNG               Galaxy A70           Uplink       1.569905   \n",
       "7            SAMSUNG               Galaxy A20           Uplink       0.113349   \n",
       "8            SAMSUNG             Galaxy Note8           Uplink       3.188925   \n",
       "9                HTC                Desire 12           Uplink       0.382367   \n",
       "\n",
       "         RSRP  \n",
       "0  -87.000000  \n",
       "1  -99.777778  \n",
       "2 -101.200000  \n",
       "3  -89.888889  \n",
       "4  -69.000000  \n",
       "5  -90.538462  \n",
       "6 -111.666667  \n",
       "7 -100.250000  \n",
       "8  -83.000000  \n",
       "9  -93.500000  "
      ]
     },
     "execution_count": 7,
     "metadata": {},
     "output_type": "execute_result"
    }
   ],
   "source": [
    "Up_traffic.head(10)"
   ]
  },
  {
   "cell_type": "markdown",
   "metadata": {},
   "source": [
    "I'll choose the operator A to see the impact of the RSRP improvment on the uplink traffice and the downlink traffic. I'll also choose a random polygon"
   ]
  },
  {
   "cell_type": "code",
   "execution_count": 8,
   "metadata": {},
   "outputs": [],
   "source": [
    "Down_traffic_poly = sqldf(\n",
    "\"\"\"\n",
    "SELECT *\n",
    "FROM Down_traffic\n",
    "WHERE LocationLongitude BETWEEN 46.8 AND 47\n",
    "    AND LocationLatitude BETWEEN 24.4 AND 24.6\n",
    "    AND RadioOperatorName = 'Operator A'\n",
    ";\n",
    "\"\"\", globals())\n",
    "\n",
    "Up_traffic_poly = sqldf(\n",
    "\"\"\"\n",
    "SELECT *\n",
    "FROM Up_traffic\n",
    "WHERE LocationLongitude BETWEEN 46.8 AND 47\n",
    "    AND LocationLatitude BETWEEN 24.4 AND 24.6\n",
    "    AND RadioOperatorName = 'Operator A'\n",
    ";\n",
    "\"\"\", globals())"
   ]
  },
  {
   "cell_type": "code",
   "execution_count": 9,
   "metadata": {},
   "outputs": [],
   "source": [
    "scaler = MinMaxScaler()\n",
    "Down_traffic_poly[['RSRP', 'TrafficVolume']] = scaler.fit_transform(Down_traffic_poly[['RSRP', 'TrafficVolume']])\n",
    "scaler = MinMaxScaler()\n",
    "Up_traffic_poly[['RSRP', 'TrafficVolume']] = scaler.fit_transform(Up_traffic_poly[['RSRP', 'TrafficVolume']])"
   ]
  },
  {
   "cell_type": "code",
   "execution_count": 21,
   "metadata": {},
   "outputs": [
    {
     "data": {
      "image/png": "[encoded data removed]",
      "text/plain": [
       "<Figure size 1656x360 with 2 Axes>"
      ]
     },
     "metadata": {
      "needs_background": "light"
     },
     "output_type": "display_data"
    }
   ],
   "source": [
    "fig,(ax1,ax2) = plt.subplots(1, 2)\n",
    "ax1.scatter(Down_traffic_poly.RSRP, Down_traffic_poly.TrafficVolume)\n",
    "ax1.set_title(\"RSRP vs Downlink traffic\")\n",
    "ax2.scatter(Up_traffic_poly.RSRP, Up_traffic_poly.TrafficVolume)\n",
    "ax2.set_title(\"RSRP vs Uplink traffic\")\n",
    "fig.set_figwidth(23)\n",
    "fig.set_figheight(5) \n",
    "plt.show()"
   ]
  },
  {
   "cell_type": "code",
   "execution_count": 11,
   "metadata": {},
   "outputs": [
    {
     "data": {
      "text/html": [
       "<div>\n",
       "<style scoped>\n",
       "    .dataframe tbody tr th:only-of-type {\n",
       "        vertical-align: middle;\n",
       "    }\n",
       "\n",
       "    .dataframe tbody tr th {\n",
       "        vertical-align: top;\n",
       "    }\n",
       "\n",
       "    .dataframe thead th {\n",
       "        text-align: right;\n",
       "    }\n",
       "</style>\n",
       "<table border=\"1\" class=\"dataframe\">\n",
       "  <thead>\n",
       "    <tr style=\"text-align: right;\">\n",
       "      <th></th>\n",
       "      <th>LocationLatitude</th>\n",
       "      <th>LocationLongitude</th>\n",
       "      <th>TrafficVolume</th>\n",
       "      <th>RSRP</th>\n",
       "    </tr>\n",
       "  </thead>\n",
       "  <tbody>\n",
       "    <tr>\n",
       "      <th>LocationLatitude</th>\n",
       "      <td>1.000000</td>\n",
       "      <td>-0.920562</td>\n",
       "      <td>0.059003</td>\n",
       "      <td>0.147401</td>\n",
       "    </tr>\n",
       "    <tr>\n",
       "      <th>LocationLongitude</th>\n",
       "      <td>-0.920562</td>\n",
       "      <td>1.000000</td>\n",
       "      <td>-0.043702</td>\n",
       "      <td>-0.098003</td>\n",
       "    </tr>\n",
       "    <tr>\n",
       "      <th>TrafficVolume</th>\n",
       "      <td>0.059003</td>\n",
       "      <td>-0.043702</td>\n",
       "      <td>1.000000</td>\n",
       "      <td>-0.008209</td>\n",
       "    </tr>\n",
       "    <tr>\n",
       "      <th>RSRP</th>\n",
       "      <td>0.147401</td>\n",
       "      <td>-0.098003</td>\n",
       "      <td>-0.008209</td>\n",
       "      <td>1.000000</td>\n",
       "    </tr>\n",
       "  </tbody>\n",
       "</table>\n",
       "</div>"
      ],
      "text/plain": [
       "                   LocationLatitude  LocationLongitude  TrafficVolume  \\\n",
       "LocationLatitude           1.000000          -0.920562       0.059003   \n",
       "LocationLongitude         -0.920562           1.000000      -0.043702   \n",
       "TrafficVolume              0.059003          -0.043702       1.000000   \n",
       "RSRP                       0.147401          -0.098003      -0.008209   \n",
       "\n",
       "                       RSRP  \n",
       "LocationLatitude   0.147401  \n",
       "LocationLongitude -0.098003  \n",
       "TrafficVolume     -0.008209  \n",
       "RSRP               1.000000  "
      ]
     },
     "execution_count": 11,
     "metadata": {},
     "output_type": "execute_result"
    }
   ],
   "source": [
    "Down_traffic_poly.corr(numeric_only=True)"
   ]
  },
  {
   "cell_type": "markdown",
   "metadata": {},
   "source": [
    "From the graph and the correlation matrix we can see that there's very little correlation between these variable. However, let's try a linear regression model and see how it performs then let's try other algorithms."
   ]
  },
  {
   "cell_type": "markdown",
   "metadata": {},
   "source": [
    "# Linear Regression Model"
   ]
  },
  {
   "cell_type": "code",
   "execution_count": 12,
   "metadata": {},
   "outputs": [
    {
     "data": {
      "text/html": [
       "<style>#sk-container-id-1 {color: black;background-color: white;}#sk-container-id-1 pre{padding: 0;}#sk-container-id-1 div.sk-toggleable {background-color: white;}#sk-container-id-1 label.sk-toggleable__label {cursor: pointer;display: block;width: 100%;margin-bottom: 0;padding: 0.3em;box-sizing: border-box;text-align: center;}#sk-container-id-1 label.sk-toggleable__label-arrow:before {content: \"▸\";float: left;margin-right: 0.25em;color: #696969;}#sk-container-id-1 label.sk-toggleable__label-arrow:hover:before {color: black;}#sk-container-id-1 div.sk-estimator:hover label.sk-toggleable__label-arrow:before {color: black;}#sk-container-id-1 div.sk-toggleable__content {max-height: 0;max-width: 0;overflow: hidden;text-align: left;background-color: #f0f8ff;}#sk-container-id-1 div.sk-toggleable__content pre {margin: 0.2em;color: black;border-radius: 0.25em;background-color: #f0f8ff;}#sk-container-id-1 input.sk-toggleable__control:checked~div.sk-toggleable__content {max-height: 200px;max-width: 100%;overflow: auto;}#sk-container-id-1 input.sk-toggleable__control:checked~label.sk-toggleable__label-arrow:before {content: \"▾\";}#sk-container-id-1 div.sk-estimator input.sk-toggleable__control:checked~label.sk-toggleable__label {background-color: #d4ebff;}#sk-container-id-1 div.sk-label input.sk-toggleable__control:checked~label.sk-toggleable__label {background-color: #d4ebff;}#sk-container-id-1 input.sk-hidden--visually {border: 0;clip: rect(1px 1px 1px 1px);clip: rect(1px, 1px, 1px, 1px);height: 1px;margin: -1px;overflow: hidden;padding: 0;position: absolute;width: 1px;}#sk-container-id-1 div.sk-estimator {font-family: monospace;background-color: #f0f8ff;border: 1px dotted black;border-radius: 0.25em;box-sizing: border-box;margin-bottom: 0.5em;}#sk-container-id-1 div.sk-estimator:hover {background-color: #d4ebff;}#sk-container-id-1 div.sk-parallel-item::after {content: \"\";width: 100%;border-bottom: 1px solid gray;flex-grow: 1;}#sk-container-id-1 div.sk-label:hover label.sk-toggleable__label {background-color: #d4ebff;}#sk-container-id-1 div.sk-serial::before {content: \"\";position: absolute;border-left: 1px solid gray;box-sizing: border-box;top: 0;bottom: 0;left: 50%;z-index: 0;}#sk-container-id-1 div.sk-serial {display: flex;flex-direction: column;align-items: center;background-color: white;padding-right: 0.2em;padding-left: 0.2em;position: relative;}#sk-container-id-1 div.sk-item {position: relative;z-index: 1;}#sk-container-id-1 div.sk-parallel {display: flex;align-items: stretch;justify-content: center;background-color: white;position: relative;}#sk-container-id-1 div.sk-item::before, #sk-container-id-1 div.sk-parallel-item::before {content: \"\";position: absolute;border-left: 1px solid gray;box-sizing: border-box;top: 0;bottom: 0;left: 50%;z-index: -1;}#sk-container-id-1 div.sk-parallel-item {display: flex;flex-direction: column;z-index: 1;position: relative;background-color: white;}#sk-container-id-1 div.sk-parallel-item:first-child::after {align-self: flex-end;width: 50%;}#sk-container-id-1 div.sk-parallel-item:last-child::after {align-self: flex-start;width: 50%;}#sk-container-id-1 div.sk-parallel-item:only-child::after {width: 0;}#sk-container-id-1 div.sk-dashed-wrapped {border: 1px dashed gray;margin: 0 0.4em 0.5em 0.4em;box-sizing: border-box;padding-bottom: 0.4em;background-color: white;}#sk-container-id-1 div.sk-label label {font-family: monospace;font-weight: bold;display: inline-block;line-height: 1.2em;}#sk-container-id-1 div.sk-label-container {text-align: center;}#sk-container-id-1 div.sk-container {/* jupyter's `normalize.less` sets `[hidden] { display: none; }` but bootstrap.min.css set `[hidden] { display: none !important; }` so we also need the `!important` here to be able to override the default hidden behavior on the sphinx rendered scikit-learn.org. See: https://github.com/scikit-learn/scikit-learn/issues/21755 */display: inline-block !important;position: relative;}#sk-container-id-1 div.sk-text-repr-fallback {display: none;}</style><div id=\"sk-container-id-1\" class=\"sk-top-container\"><div class=\"sk-text-repr-fallback\"><pre>LinearRegression()</pre><b>In a Jupyter environment, please rerun this cell to show the HTML representation or trust the notebook. <br />On GitHub, the HTML representation is unable to render, please try loading this page with nbviewer.org.</b></div><div class=\"sk-container\" hidden><div class=\"sk-item\"><div class=\"sk-estimator sk-toggleable\"><input class=\"sk-toggleable__control sk-hidden--visually\" id=\"sk-estimator-id-1\" type=\"checkbox\" checked><label for=\"sk-estimator-id-1\" class=\"sk-toggleable__label sk-toggleable__label-arrow\">LinearRegression</label><div class=\"sk-toggleable__content\"><pre>LinearRegression()</pre></div></div></div></div></div>"
      ],
      "text/plain": [
       "LinearRegression()"
      ]
     },
     "execution_count": 12,
     "metadata": {},
     "output_type": "execute_result"
    }
   ],
   "source": [
    "model = LinearRegression()\n",
    "X = np.array(Down_traffic_poly[\"RSRP\"]).reshape(-1,1)\n",
    "y = Down_traffic_poly[\"TrafficVolume\"]\n",
    "model.fit(X, y)"
   ]
  },
  {
   "cell_type": "code",
   "execution_count": 13,
   "metadata": {},
   "outputs": [
    {
     "data": {
      "text/plain": [
       "6.738178718657117e-05"
      ]
     },
     "execution_count": 13,
     "metadata": {},
     "output_type": "execute_result"
    }
   ],
   "source": [
    "model.score(X, y)"
   ]
  },
  {
   "cell_type": "markdown",
   "metadata": {},
   "source": [
    "As I expected the model performed really badly.\n",
    "Let's try another model."
   ]
  },
  {
   "cell_type": "markdown",
   "metadata": {},
   "source": [
    "# Random Forest Model"
   ]
  },
  {
   "cell_type": "code",
   "execution_count": 14,
   "metadata": {},
   "outputs": [],
   "source": [
    "X_train, X_test, y_train, y_test = train_test_split(Down_traffic_poly.RSRP, Down_traffic_poly.TrafficVolume, test_size=0.33, random_state=42)"
   ]
  },
  {
   "cell_type": "code",
   "execution_count": 15,
   "metadata": {},
   "outputs": [],
   "source": [
    "X_train = np.array(X_train).reshape(-1, 1)\n",
    "X_test = np.array(X_test).reshape(-1, 1)"
   ]
  },
  {
   "cell_type": "code",
   "execution_count": 16,
   "metadata": {},
   "outputs": [
    {
     "data": {
      "text/html": [
       "<style>#sk-container-id-2 {color: black;background-color: white;}#sk-container-id-2 pre{padding: 0;}#sk-container-id-2 div.sk-toggleable {background-color: white;}#sk-container-id-2 label.sk-toggleable__label {cursor: pointer;display: block;width: 100%;margin-bottom: 0;padding: 0.3em;box-sizing: border-box;text-align: center;}#sk-container-id-2 label.sk-toggleable__label-arrow:before {content: \"▸\";float: left;margin-right: 0.25em;color: #696969;}#sk-container-id-2 label.sk-toggleable__label-arrow:hover:before {color: black;}#sk-container-id-2 div.sk-estimator:hover label.sk-toggleable__label-arrow:before {color: black;}#sk-container-id-2 div.sk-toggleable__content {max-height: 0;max-width: 0;overflow: hidden;text-align: left;background-color: #f0f8ff;}#sk-container-id-2 div.sk-toggleable__content pre {margin: 0.2em;color: black;border-radius: 0.25em;background-color: #f0f8ff;}#sk-container-id-2 input.sk-toggleable__control:checked~div.sk-toggleable__content {max-height: 200px;max-width: 100%;overflow: auto;}#sk-container-id-2 input.sk-toggleable__control:checked~label.sk-toggleable__label-arrow:before {content: \"▾\";}#sk-container-id-2 div.sk-estimator input.sk-toggleable__control:checked~label.sk-toggleable__label {background-color: #d4ebff;}#sk-container-id-2 div.sk-label input.sk-toggleable__control:checked~label.sk-toggleable__label {background-color: #d4ebff;}#sk-container-id-2 input.sk-hidden--visually {border: 0;clip: rect(1px 1px 1px 1px);clip: rect(1px, 1px, 1px, 1px);height: 1px;margin: -1px;overflow: hidden;padding: 0;position: absolute;width: 1px;}#sk-container-id-2 div.sk-estimator {font-family: monospace;background-color: #f0f8ff;border: 1px dotted black;border-radius: 0.25em;box-sizing: border-box;margin-bottom: 0.5em;}#sk-container-id-2 div.sk-estimator:hover {background-color: #d4ebff;}#sk-container-id-2 div.sk-parallel-item::after {content: \"\";width: 100%;border-bottom: 1px solid gray;flex-grow: 1;}#sk-container-id-2 div.sk-label:hover label.sk-toggleable__label {background-color: #d4ebff;}#sk-container-id-2 div.sk-serial::before {content: \"\";position: absolute;border-left: 1px solid gray;box-sizing: border-box;top: 0;bottom: 0;left: 50%;z-index: 0;}#sk-container-id-2 div.sk-serial {display: flex;flex-direction: column;align-items: center;background-color: white;padding-right: 0.2em;padding-left: 0.2em;position: relative;}#sk-container-id-2 div.sk-item {position: relative;z-index: 1;}#sk-container-id-2 div.sk-parallel {display: flex;align-items: stretch;justify-content: center;background-color: white;position: relative;}#sk-container-id-2 div.sk-item::before, #sk-container-id-2 div.sk-parallel-item::before {content: \"\";position: absolute;border-left: 1px solid gray;box-sizing: border-box;top: 0;bottom: 0;left: 50%;z-index: -1;}#sk-container-id-2 div.sk-parallel-item {display: flex;flex-direction: column;z-index: 1;position: relative;background-color: white;}#sk-container-id-2 div.sk-parallel-item:first-child::after {align-self: flex-end;width: 50%;}#sk-container-id-2 div.sk-parallel-item:last-child::after {align-self: flex-start;width: 50%;}#sk-container-id-2 div.sk-parallel-item:only-child::after {width: 0;}#sk-container-id-2 div.sk-dashed-wrapped {border: 1px dashed gray;margin: 0 0.4em 0.5em 0.4em;box-sizing: border-box;padding-bottom: 0.4em;background-color: white;}#sk-container-id-2 div.sk-label label {font-family: monospace;font-weight: bold;display: inline-block;line-height: 1.2em;}#sk-container-id-2 div.sk-label-container {text-align: center;}#sk-container-id-2 div.sk-container {/* jupyter's `normalize.less` sets `[hidden] { display: none; }` but bootstrap.min.css set `[hidden] { display: none !important; }` so we also need the `!important` here to be able to override the default hidden behavior on the sphinx rendered scikit-learn.org. See: https://github.com/scikit-learn/scikit-learn/issues/21755 */display: inline-block !important;position: relative;}#sk-container-id-2 div.sk-text-repr-fallback {display: none;}</style><div id=\"sk-container-id-2\" class=\"sk-top-container\"><div class=\"sk-text-repr-fallback\"><pre>RandomForestRegressor()</pre><b>In a Jupyter environment, please rerun this cell to show the HTML representation or trust the notebook. <br />On GitHub, the HTML representation is unable to render, please try loading this page with nbviewer.org.</b></div><div class=\"sk-container\" hidden><div class=\"sk-item\"><div class=\"sk-estimator sk-toggleable\"><input class=\"sk-toggleable__control sk-hidden--visually\" id=\"sk-estimator-id-2\" type=\"checkbox\" checked><label for=\"sk-estimator-id-2\" class=\"sk-toggleable__label sk-toggleable__label-arrow\">RandomForestRegressor</label><div class=\"sk-toggleable__content\"><pre>RandomForestRegressor()</pre></div></div></div></div></div>"
      ],
      "text/plain": [
       "RandomForestRegressor()"
      ]
     },
     "execution_count": 16,
     "metadata": {},
     "output_type": "execute_result"
    }
   ],
   "source": [
    "regr = RandomForestRegressor()\n",
    "regr.fit(X_train, y_train)"
   ]
  },
  {
   "cell_type": "code",
   "execution_count": 17,
   "metadata": {},
   "outputs": [
    {
     "data": {
      "text/plain": [
       "-0.13935087983824856"
      ]
     },
     "execution_count": 17,
     "metadata": {},
     "output_type": "execute_result"
    }
   ],
   "source": [
    "regr.score(X_test, y_test)"
   ]
  },
  {
   "cell_type": "markdown",
   "metadata": {},
   "source": [
    "The model is failling as well."
   ]
  },
  {
   "cell_type": "markdown",
   "metadata": {},
   "source": [
    "# Conclusion:\n",
    "The data we have isn't enough to predict the traffic volume given the RSRP value, more variables should be taken into account."
   ]
  },
  {
   "cell_type": "code",
   "execution_count": null,
   "metadata": {},
   "outputs": [],
   "source": []
  }
 ],
 "metadata": {
  "kernelspec": {
   "display_name": "Python 3 (ipykernel)",
   "language": "python",
   "name": "python3"
  },
  "language_info": {
   "codemirror_mode": {
    "name": "ipython",
    "version": 3
   },
   "file_extension": ".py",
   "mimetype": "text/x-python",
   "name": "python",
   "nbconvert_exporter": "python",
   "pygments_lexer": "ipython3",
   "version": "3.10.6"
  },
  "vscode": {
   "interpreter": {
    "hash": "916dbcbb3f70747c44a77c7bcd40155683ae19c65e1c03b4aa3499c5328201f1"
   }
  }
 },
 "nbformat": 4,
 "nbformat_minor": 4
}
